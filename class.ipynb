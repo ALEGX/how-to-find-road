{
 "cells": [
  {
   "cell_type": "code",
   "execution_count": 4,
   "metadata": {},
   "outputs": [
    {
     "name": "stdout",
     "output_type": "stream",
     "text": [
      "출발지의 좌표를 입력해주세요2,8\n",
      "도착지의 좌표를 입력해주세요11,19\n"
     ]
    },
    {
     "data": {
      "image/png": "[encoded data removed]",
      "text/plain": [
       "<Figure size 432x288 with 1 Axes>"
      ]
     },
     "metadata": {
      "needs_background": "light"
     },
     "output_type": "display_data"
    },
    {
     "name": "stdout",
     "output_type": "stream",
     "text": [
      "3003.0\n"
     ]
    }
   ],
   "source": [
    "from matplotlib import pyplot as plt\n",
    "import math\n",
    "import numpy\n",
    "class find_way:\n",
    "    def __init__(self,start_position,end_position):\n",
    "        self.start = list(map(int,start_position))\n",
    "        self.end = list(map(int,end_position))\n",
    "        self.delete_position = []\n",
    "        \n",
    "    def help(self):\n",
    "        print(\"delete_position(position) 함수를 통해 지날 수 없는 점을 추가 가능합니다.\")\n",
    "        print(\"draw() 함수를 통해 길을 그려볼 수 있습니다,\")\n",
    "        print(\"solve()를 통해 답을 도출할 수 있습니다.\")\n",
    "        \n",
    "    def delete_position_make(self,position):\n",
    "        if position[0]< self.start[0] if (self.start[0]<self.end[0]) else self.end[0] or\\\n",
    "        position[0]> self.start[0] if (self.start[0]>self.end[0]) else self.end[0]:\n",
    "            print('error')\n",
    "        if position[1]< self.start[1] if (self.start[1]<self.end[1]) else self.end[1] or\\\n",
    "        position[1]> self.start[1] if (self.start[1]>self.end[1]) else self.end[1]:\n",
    "            print('error')\n",
    "        if position in self.delete_position:\n",
    "            print(\"이미 포함된 점입니다.\")\n",
    "        else:\n",
    "            self.delete_position.append(position)\n",
    "            \n",
    "    def draw(self):\n",
    "        x = numpy.arange(self.start[0]-1 if (self.start[0]<self.end[0]) else self.end[0]-1\\\n",
    "                         ,self.start[0]+1 if (self.start[0]>self.end[0]) else self.end[0]+1,1)\n",
    "        y = numpy.arange(self.start[1]-1 if (self.start[1]<self.end[1]) else self.end[1]-1\\\n",
    "                         ,self.start[1]+1 if (self.start[1]>self.end[1]) else self.end[1]+1,1)\n",
    "        fig = plt.figure()\n",
    "        ax = fig.gca()\n",
    "        #ax.title(\"Road\")\n",
    "        ax.set_xticks(x)\n",
    "        ax.set_yticks(y)\n",
    "        plt.scatter(self.start[0],self.start[1])\n",
    "        plt.scatter(self.end[0],self.end[1])\n",
    "        for i in self.delete_position:\n",
    "            plt.plot([i[0]-0.8,i[0]+0.8],[i[1],i[1]], 'ro-', c='w')\n",
    "            plt.plot([i[0],i[0]],[i[1]-0.8,i[1]+0.8], 'ro-', c='w')\n",
    "        plt.grid()\n",
    "        plt.show()\n",
    "    def solution(self):\n",
    "        print(math.factorial(abs(self.start[0]-self.start[1])+abs(self.end[0]-self.end[1]))/math.factorial(abs(self.end[0]-self.end[1]))/math.factorial(abs(self.start[0]-self.start[1])))\n",
    "\n",
    "a = input('출발지의 좌표를 입력해주세요').split(',')\n",
    "b = input('도착지의 좌표를 입력해주세요').split(',')\n",
    "A = find_way(a,b)\n",
    "#A.delete_position_make([11,17])\n",
    "A.draw()\n",
    "A.solution()\n"
   ]
  },
  {
   "cell_type": "code",
   "execution_count": null,
   "metadata": {},
   "outputs": [],
   "source": []
  }
 ],
 "metadata": {
  "kernelspec": {
   "display_name": "Python 3",
   "language": "python",
   "name": "python3"
  },
  "language_info": {
   "codemirror_mode": {
    "name": "ipython",
    "version": 3
   },
   "file_extension": ".py",
   "mimetype": "text/x-python",
   "name": "python",
   "nbconvert_exporter": "python",
   "pygments_lexer": "ipython3",
   "version": "3.7.1"
  }
 },
 "nbformat": 4,
 "nbformat_minor": 2
}
